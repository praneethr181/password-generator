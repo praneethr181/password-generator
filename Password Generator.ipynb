{
 "cells": [
  {
   "cell_type": "code",
   "execution_count": 2,
   "id": "500ea72f",
   "metadata": {},
   "outputs": [],
   "source": [
    "import random\n",
    "import string\n",
    "import tkinter as tk\n",
    "from tkinter import ttk\n",
    "\n",
    "def generate_password():\n",
    "    password_length = length_entry.get()\n",
    "    if password_length.isdigit() and int(password_length) > 0:\n",
    "        characters = string.ascii_letters + string.digits + string.punctuation\n",
    "        password = ''.join(random.choice(characters) for _ in range(int(password_length)))\n",
    "        password_label.config(text=f\"Generated Password: {password}\", font=(\"Helvetica\", 20))\n",
    "    else:\n",
    "        password_label.config(text=\"Invalid length. Please enter a positive integer.\", font=(\"Helvetica\", 20))\n",
    "\n",
    "root = tk.Tk()\n",
    "root.title(\"Password Generator\")\n",
    "root.geometry(\"800x600\")\n",
    "root.configure(bg=\"#F0F0F0\")  # Light gray background\n",
    "\n",
    "main_frame = ttk.Frame(root, padding=40)\n",
    "main_frame.pack(fill=tk.BOTH, expand=True)\n",
    "\n",
    "title_label = ttk.Label(main_frame, text=\"Password Generator\", font=(\"Helvetica\", 36, \"bold\"), foreground=\"#333333\")\n",
    "title_label.pack(pady=20)\n",
    "\n",
    "length_label = ttk.Label(main_frame, text=\"Password Length:\", font=(\"Helvetica\", 24), foreground=\"#333333\")\n",
    "length_label.pack(pady=10)\n",
    "\n",
    "length_entry = ttk.Entry(main_frame, font=(\"Helvetica\", 24), width=10)\n",
    "length_entry.pack()\n",
    "\n",
    "generate_button = ttk.Button(main_frame, text=\"Generate\", command=generate_password, style=\"Accent.TButton\")\n",
    "generate_button.pack(pady=20)\n",
    "\n",
    "password_label = ttk.Label(main_frame, text=\"\", font=(\"Helvetica\", 20), foreground=\"#333333\")\n",
    "password_label.pack(pady=20)\n",
    "\n",
    "style = ttk.Style()\n",
    "style.theme_use(\"clam\")\n",
    "style.configure(\"Accent.TButton\", background=\"#4CAF50\", foreground=\"#FFFFFF\", font=(\"Helvetica\", 24))\n",
    "\n",
    "root.mainloop()"
   ]
  },
  {
   "cell_type": "code",
   "execution_count": null,
   "id": "2bb804cf",
   "metadata": {},
   "outputs": [],
   "source": []
  }
 ],
 "metadata": {
  "kernelspec": {
   "display_name": "Python 3 (ipykernel)",
   "language": "python",
   "name": "python3"
  },
  "language_info": {
   "codemirror_mode": {
    "name": "ipython",
    "version": 3
   },
   "file_extension": ".py",
   "mimetype": "text/x-python",
   "name": "python",
   "nbconvert_exporter": "python",
   "pygments_lexer": "ipython3",
   "version": "3.11.5"
  }
 },
 "nbformat": 4,
 "nbformat_minor": 5
}
